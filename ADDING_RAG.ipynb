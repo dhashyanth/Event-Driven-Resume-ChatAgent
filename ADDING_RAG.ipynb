{
 "cells": [
  {
   "cell_type": "markdown",
   "id": "def18024-676f-4733-b672-035365a0fcad",
   "metadata": {},
   "source": [
    "# Building a Workflow"
   ]
  },
  {
   "cell_type": "code",
   "execution_count": null,
   "id": "a395e553-d1f1-4819-9a9b-162d6dc9cfc0",
   "metadata": {
    "height": 81
   },
   "outputs": [],
   "source": [
    "from IPython.display import display, HTML\n",
    "from helper import extract_html_content\n",
    "import random\n",
    "from helper import get_openai_api_key"
   ]
  },
  {
   "cell_type": "code",
   "execution_count": null,
   "id": "80f1e17e-362a-41b5-a002-4d29b4aeca32",
   "metadata": {
    "height": 30
   },
   "outputs": [],
   "source": [
    "api_key = get_openai_api_key()"
   ]
  },
  {
   "cell_type": "markdown",
   "id": "7da1d6c3-1026-4800-8add-9ad555e94310",
   "metadata": {},
   "source": [
    "## Creating a Workflow"
   ]
  },
  {
   "cell_type": "code",
   "execution_count": null,
   "id": "7869015c-7d6e-4bc4-9f0c-34bdb221a974",
   "metadata": {
    "height": 132
   },
   "outputs": [],
   "source": [
    "from llama_index.core.workflow import (\n",
    "    StartEvent,\n",
    "    StopEvent,\n",
    "    Workflow,\n",
    "    step,\n",
    "    Context\n",
    ")"
   ]
  },
  {
   "cell_type": "code",
   "execution_count": null,
   "id": "caa53423-2c92-403f-b190-b4ee646870dd",
   "metadata": {
    "height": 115
   },
   "outputs": [],
   "source": [
    "class MyWorkflow(Workflow):\n",
    "    \n",
    "    @step\n",
    "    async def my_step(self, ev: StartEvent) -> StopEvent:\n",
    "        \n",
    "        return StopEvent(result=\"Hello, world!\")"
   ]
  },
  {
   "cell_type": "code",
   "execution_count": null,
   "id": "64df86f7-5d90-41db-a283-9b81476dbff2",
   "metadata": {
    "height": 98
   },
   "outputs": [],
   "source": [
    "basic_workflow = MyWorkflow(timeout=10, verbose=False)\n",
    "result = await basic_workflow.run()\n",
    "print(result)"
   ]
  },
  {
   "cell_type": "markdown",
   "id": "d8922ab2-a783-46d7-8c1b-73b6e370ca66",
   "metadata": {},
   "source": [
    "## Visualizing a workflow"
   ]
  },
  {
   "cell_type": "code",
   "execution_count": null,
   "id": "128fc0a3-2e07-433f-96a9-1a3b123e424d",
   "metadata": {
    "height": 30
   },
   "outputs": [],
   "source": [
    "from llama_index.utils.workflow import draw_all_possible_flows"
   ]
  },
  {
   "cell_type": "code",
   "execution_count": null,
   "id": "768b444b-095f-4d73-b51d-dc0e51cc635c",
   "metadata": {
    "height": 81
   },
   "outputs": [],
   "source": [
    "draw_all_possible_flows(\n",
    "    basic_workflow, \n",
    "    filename=\"workflows/basic_workflow.html\"\n",
    ")"
   ]
  },
  {
   "cell_type": "code",
   "execution_count": null,
   "id": "9c960b3e-f8e6-4b82-8249-191e876ce503",
   "metadata": {
    "height": 47
   },
   "outputs": [],
   "source": [
    "html_content = extract_html_content(\"workflows/basic_workflow.html\")\n",
    "display(HTML(html_content), metadata=dict(isolated=True))"
   ]
  },
  {
   "cell_type": "markdown",
   "id": "23f2fe8c-26f8-465b-b099-3744982bb5f8",
   "metadata": {},
   "source": [
    "## Creating Custom Events"
   ]
  },
  {
   "cell_type": "code",
   "execution_count": null,
   "id": "f42526f9-8726-4b8a-a99e-860c3fb911ed",
   "metadata": {
    "height": 132
   },
   "outputs": [],
   "source": [
    "from llama_index.core.workflow import Event\n",
    "\n",
    "class FirstEvent(Event):\n",
    "    first_output: str\n",
    "\n",
    "class SecondEvent(Event):\n",
    "    second_output: str"
   ]
  },
  {
   "cell_type": "markdown",
   "id": "6f9a8356-379c-4cb7-ad6e-99543fe0f1c0",
   "metadata": {},
   "source": [
    "### Defining the workflow"
   ]
  },
  {
   "cell_type": "code",
   "execution_count": null,
   "id": "1fb67470-dd94-4a91-b040-e243928a788e",
   "metadata": {
    "height": 268
   },
   "outputs": [],
   "source": [
    "class MyWorkflow(Workflow):\n",
    "    @step\n",
    "    async def step_one(self, ev: StartEvent) -> FirstEvent:\n",
    "        print(ev.first_input)\n",
    "        return FirstEvent(first_output=\"First step complete.\")\n",
    "\n",
    "    @step\n",
    "    async def step_two(self, ev: FirstEvent) -> SecondEvent:\n",
    "        print(ev.first_output)\n",
    "        return SecondEvent(second_output=\"Second step complete.\")\n",
    "\n",
    "    @step\n",
    "    async def step_three(self, ev: SecondEvent) -> StopEvent:\n",
    "        print(ev.second_output)\n",
    "        return StopEvent(result=\"Workflow complete.\")"
   ]
  },
  {
   "cell_type": "code",
   "execution_count": null,
   "id": "85399e8e-269c-42e4-b0be-1e7f9bdcf67e",
   "metadata": {
    "height": 64
   },
   "outputs": [],
   "source": [
    "workflow = MyWorkflow(timeout=10, verbose=False)\n",
    "result = await workflow.run(first_input=\"Start the workflow.\")\n",
    "print(result)"
   ]
  },
  {
   "cell_type": "code",
   "execution_count": null,
   "id": "e88ff080-570d-43f3-b189-07108f6902d5",
   "metadata": {
    "height": 47
   },
   "outputs": [],
   "source": [
    "WORKFLOW_FILE = \"workflows/custom_events.html\"\n",
    "draw_all_possible_flows(workflow, filename=WORKFLOW_FILE)"
   ]
  },
  {
   "cell_type": "code",
   "execution_count": null,
   "id": "aaa85bd8-7d70-428e-a19d-a3e1a4ca776d",
   "metadata": {
    "height": 47
   },
   "outputs": [],
   "source": [
    "html_content = extract_html_content(WORKFLOW_FILE)\n",
    "display(HTML(html_content), metadata=dict(isolated=True))"
   ]
  },
  {
   "cell_type": "markdown",
   "id": "610befa4-d934-4035-9a9f-68593b716b7a",
   "metadata": {},
   "source": [
    "## Creating Loops"
   ]
  },
  {
   "cell_type": "code",
   "execution_count": null,
   "id": "4b2d2c6f-a2f6-4321-986e-7c7c0a01af75",
   "metadata": {
    "height": 47
   },
   "outputs": [],
   "source": [
    "class LoopEvent(Event):\n",
    "    loop_output: str"
   ]
  },
  {
   "cell_type": "code",
   "execution_count": null,
   "id": "28458e79-7022-4e66-934d-53ea2845283f",
   "metadata": {
    "height": 336
   },
   "outputs": [],
   "source": [
    "class MyWorkflow(Workflow):\n",
    "    @step\n",
    "    async def step_one(self, ev: StartEvent | LoopEvent) -> FirstEvent | LoopEvent:\n",
    "        if random.randint(0, 1) == 0:\n",
    "            print(\"Bad thing happened\")\n",
    "            return LoopEvent(loop_output=\"Back to step one.\")\n",
    "        else:\n",
    "            print(\"Good thing happened\")\n",
    "            return FirstEvent(first_output=\"First step complete.\")\n",
    "\n",
    "    @step\n",
    "    async def step_two(self, ev: FirstEvent) -> SecondEvent:\n",
    "        print(ev.first_output)\n",
    "        return SecondEvent(second_output=\"Second step complete.\")\n",
    "\n",
    "    @step\n",
    "    async def step_three(self, ev: SecondEvent) -> StopEvent:\n",
    "        print(ev.second_output)\n",
    "        return StopEvent(result=\"Workflow complete.\")"
   ]
  },
  {
   "cell_type": "code",
   "execution_count": null,
   "id": "a9a27c0f-9661-4f06-a8e2-57308056c115",
   "metadata": {
    "height": 64
   },
   "outputs": [],
   "source": [
    "loop_workflow = MyWorkflow(timeout=10, verbose=False)\n",
    "result = await loop_workflow.run(first_input=\"Start the workflow.\")\n",
    "print(result)"
   ]
  },
  {
   "cell_type": "code",
   "execution_count": null,
   "id": "357849c3-f0eb-4285-a4b7-0b1c5c5205fc",
   "metadata": {
    "height": 81
   },
   "outputs": [],
   "source": [
    "WORKFLOW_FILE = \"workflows/loop_events.html\"\n",
    "draw_all_possible_flows(loop_workflow, filename=WORKFLOW_FILE)\n",
    "html_content = extract_html_content(WORKFLOW_FILE)\n",
    "display(HTML(html_content), metadata=dict(isolated=True))"
   ]
  },
  {
   "cell_type": "markdown",
   "id": "bdebabcb-e536-4fa0-8354-df1bac208543",
   "metadata": {},
   "source": [
    "## Branching"
   ]
  },
  {
   "cell_type": "code",
   "execution_count": null,
   "id": "6d378818-6dc1-4994-9729-bc34399b1147",
   "metadata": {
    "height": 200
   },
   "outputs": [],
   "source": [
    "class BranchA1Event(Event):\n",
    "    payload: str\n",
    "\n",
    "class BranchA2Event(Event):\n",
    "    payload: str\n",
    "\n",
    "class BranchB1Event(Event):\n",
    "    payload: str\n",
    "\n",
    "class BranchB2Event(Event):\n",
    "    payload: str"
   ]
  },
  {
   "cell_type": "code",
   "execution_count": null,
   "id": "ce851bf7-6125-4fbb-9d06-4e30fc3283b1",
   "metadata": {
    "height": 506
   },
   "outputs": [],
   "source": [
    "class BranchWorkflow(Workflow):\n",
    "    @step\n",
    "    async def start(self, ev: StartEvent) -> BranchA1Event | BranchB1Event:\n",
    "        if random.randint(0, 1) == 0:\n",
    "            print(\"Go to branch A\")\n",
    "            return BranchA1Event(payload=\"Branch A\")\n",
    "        else:\n",
    "            print(\"Go to branch B\")\n",
    "            return BranchB1Event(payload=\"Branch B\")\n",
    "\n",
    "    @step\n",
    "    async def step_a1(self, ev: BranchA1Event) -> BranchA2Event:\n",
    "        print(ev.payload)\n",
    "        return BranchA2Event(payload=ev.payload)\n",
    "\n",
    "    @step\n",
    "    async def step_b1(self, ev: BranchB1Event) -> BranchB2Event:\n",
    "        print(ev.payload)\n",
    "        return BranchB2Event(payload=ev.payload)\n",
    "\n",
    "    @step\n",
    "    async def step_a2(self, ev: BranchA2Event) -> StopEvent:\n",
    "        print(ev.payload)\n",
    "        return StopEvent(result=\"Branch A complete.\")\n",
    "\n",
    "    @step\n",
    "    async def step_b2(self, ev: BranchB2Event) -> StopEvent:\n",
    "        print(ev.payload)\n",
    "        return StopEvent(result=\"Branch B complete.\")"
   ]
  },
  {
   "cell_type": "code",
   "execution_count": null,
   "id": "911c2e4f-3ead-4811-8d63-efd706f2d020",
   "metadata": {
    "height": 64
   },
   "outputs": [],
   "source": [
    "WORKFLOW_FILE = \"workflows/branching.html\"\n",
    "draw_all_possible_flows(BranchWorkflow, filename=WORKFLOW_FILE)\n",
    "html_content = extract_html_content(WORKFLOW_FILE)"
   ]
  },
  {
   "cell_type": "code",
   "execution_count": null,
   "id": "e7a64ca9-50b3-4e22-a96f-5f3bfe57bf79",
   "metadata": {
    "height": 30
   },
   "outputs": [],
   "source": [
    "display(HTML(html_content), metadata=dict(isolated=True))"
   ]
  },
  {
   "cell_type": "markdown",
   "id": "45090b9a-eb7a-4cf6-971a-4014621e5a51",
   "metadata": {},
   "source": [
    "## Concurent Execution"
   ]
  },
  {
   "cell_type": "code",
   "execution_count": null,
   "id": "1b487882-49a0-42ae-b862-febde9e67e01",
   "metadata": {
    "height": 319
   },
   "outputs": [],
   "source": [
    "import asyncio\n",
    "\n",
    "class StepTwoEvent(Event):\n",
    "    query: str\n",
    "\n",
    "class ParallelFlow(Workflow):\n",
    "    @step\n",
    "    async def start(self, ctx: Context, ev: StartEvent) -> StepTwoEvent:\n",
    "        ctx.send_event(StepTwoEvent(query=\"Query 1\"))\n",
    "        ctx.send_event(StepTwoEvent(query=\"Query 2\"))\n",
    "        ctx.send_event(StepTwoEvent(query=\"Query 3\"))\n",
    "\n",
    "    @step(num_workers=4)\n",
    "    async def step_two(self, ctx: Context, ev: StepTwoEvent) -> StopEvent:\n",
    "        print(\"Running slow query \", ev.query)\n",
    "        await asyncio.sleep(random.randint(1, 5))\n",
    "\n",
    "        return StopEvent(result=ev.query)"
   ]
  },
  {
   "cell_type": "code",
   "execution_count": null,
   "id": "8ec6f9a6-6585-4c7a-9268-a47b52550d37",
   "metadata": {
    "height": 64
   },
   "outputs": [],
   "source": [
    "parallel_workflow = ParallelFlow(timeout=10, verbose=False)\n",
    "result = await parallel_workflow.run()\n",
    "print(result)"
   ]
  },
  {
   "cell_type": "markdown",
   "id": "9f4f00ab-639f-41ac-896b-59705e57f5d7",
   "metadata": {},
   "source": [
    "### Collecting events"
   ]
  },
  {
   "cell_type": "code",
   "execution_count": null,
   "id": "ab2b25fb-5d7d-4a0e-b270-93f03a1e11ab",
   "metadata": {
    "height": 472
   },
   "outputs": [],
   "source": [
    "class StepThreeEvent(Event):\n",
    "    result: str\n",
    "\n",
    "class ConcurrentFlow(Workflow):\n",
    "    @step\n",
    "    async def start(self, ctx: Context, ev: StartEvent) -> StepTwoEvent:\n",
    "        ctx.send_event(StepTwoEvent(query=\"Query 1\"))\n",
    "        ctx.send_event(StepTwoEvent(query=\"Query 2\"))\n",
    "        ctx.send_event(StepTwoEvent(query=\"Query 3\"))\n",
    "\n",
    "    @step(num_workers=4)\n",
    "    async def step_two(self, ctx: Context, ev: StepTwoEvent) -> StepThreeEvent:\n",
    "        print(\"Running query \", ev.query)\n",
    "        await asyncio.sleep(random.randint(1, 5))\n",
    "        return StepThreeEvent(result=ev.query)\n",
    "\n",
    "    @step\n",
    "    async def step_three(self, ctx: Context, ev: StepThreeEvent) -> StopEvent:\n",
    "        \n",
    "        result = ctx.collect_events(ev, [StepThreeEvent] * 3)\n",
    "        if result is None:\n",
    "            print(\"Not all events received yet.\")\n",
    "            return None\n",
    "\n",
    "        \n",
    "        print(result)\n",
    "        return StopEvent(result=\"Done\")"
   ]
  },
  {
   "cell_type": "code",
   "execution_count": null,
   "id": "1048887e-1503-4c64-ad72-ceb0def6ec25",
   "metadata": {
    "height": 64
   },
   "outputs": [],
   "source": [
    "w = ConcurrentFlow(timeout=10, verbose=False)\n",
    "result = await w.run(message=\"Start the workflow.\")\n",
    "print(result)"
   ]
  },
  {
   "cell_type": "markdown",
   "id": "eb6af0be-bedc-4efd-bd33-666f147b7590",
   "metadata": {},
   "source": [
    "### Collecting different event types"
   ]
  },
  {
   "cell_type": "code",
   "execution_count": null,
   "id": "84dc46d2-7b98-4720-b0c3-5b7b456a48cf",
   "metadata": {
    "height": 302
   },
   "outputs": [],
   "source": [
    "class StepAEvent(Event):\n",
    "    query: str\n",
    "\n",
    "class StepACompleteEvent(Event):\n",
    "    result: str\n",
    "\n",
    "class StepBEvent(Event):\n",
    "    query: str\n",
    "\n",
    "class StepBCompleteEvent(Event):\n",
    "    result: str\n",
    "\n",
    "class StepCEvent(Event):\n",
    "    query: str\n",
    "\n",
    "class StepCCompleteEvent(Event):\n",
    "    result: str"
   ]
  },
  {
   "cell_type": "code",
   "execution_count": null,
   "id": "c524727b-1d21-4aae-a551-ec115d94d684",
   "metadata": {
    "height": 744
   },
   "outputs": [],
   "source": [
    "class ConcurrentFlow(Workflow):\n",
    "    @step\n",
    "    async def start(\n",
    "        self, ctx: Context, ev: StartEvent\n",
    "    ) -> StepAEvent | StepBEvent | StepCEvent:\n",
    "        ctx.send_event(StepAEvent(query=\"Query 1\"))\n",
    "        ctx.send_event(StepBEvent(query=\"Query 2\"))\n",
    "        ctx.send_event(StepCEvent(query=\"Query 3\"))\n",
    "\n",
    "    @step\n",
    "    async def step_a(self, ctx: Context, ev: StepAEvent) -> StepACompleteEvent:\n",
    "        print(\"Doing something A-ish\")\n",
    "        return StepACompleteEvent(result=ev.query)\n",
    "\n",
    "    @step\n",
    "    async def step_b(self, ctx: Context, ev: StepBEvent) -> StepBCompleteEvent:\n",
    "        print(\"Doing something B-ish\")\n",
    "        return StepBCompleteEvent(result=ev.query)\n",
    "\n",
    "    @step\n",
    "    async def step_c(self, ctx: Context, ev: StepCEvent) -> StepCCompleteEvent:\n",
    "        print(\"Doing something C-ish\")\n",
    "        return StepCCompleteEvent(result=ev.query)\n",
    "\n",
    "    @step\n",
    "    async def step_three(\n",
    "        self,\n",
    "        ctx: Context,\n",
    "        ev: StepACompleteEvent | StepBCompleteEvent | StepCCompleteEvent,\n",
    "    ) -> StopEvent:\n",
    "        print(\"Received event \", ev.result)\n",
    "\n",
    "        \n",
    "        events = ctx.collect_events(\n",
    "            ev,\n",
    "            [StepCCompleteEvent, StepACompleteEvent, StepBCompleteEvent],\n",
    "        )\n",
    "        if (events is None):\n",
    "            return None\n",
    "\n",
    "        \n",
    "        print(\"All events received: \", events)\n",
    "        return StopEvent(result=\"Done\")"
   ]
  },
  {
   "cell_type": "code",
   "execution_count": null,
   "id": "2e36f5c5-1057-47f0-b072-7b82c2478c8b",
   "metadata": {
    "height": 64
   },
   "outputs": [],
   "source": [
    "w = ConcurrentFlow(timeout=10, verbose=False)\n",
    "result = await w.run(message=\"Start the workflow.\")\n",
    "print(result)"
   ]
  },
  {
   "cell_type": "code",
   "execution_count": null,
   "id": "8c893249-c71b-4597-adce-04dea538bf9b",
   "metadata": {
    "height": 64
   },
   "outputs": [],
   "source": [
    "WORKFLOW_FILE = \"workflows/concurrent_different_events.html\"\n",
    "draw_all_possible_flows(w, filename=WORKFLOW_FILE)\n",
    "html_content = extract_html_content(WORKFLOW_FILE)"
   ]
  },
  {
   "cell_type": "code",
   "execution_count": null,
   "id": "7822a1d9-febd-4125-8f14-c4a5965a2aa7",
   "metadata": {
    "height": 30
   },
   "outputs": [],
   "source": [
    "display(HTML(html_content), metadata=dict(isolated=True))"
   ]
  },
  {
   "cell_type": "markdown",
   "id": "5927ba40-53fc-4710-98f2-359928e98f46",
   "metadata": {},
   "source": [
    "## Streaming"
   ]
  },
  {
   "cell_type": "code",
   "execution_count": null,
   "id": "775c33ea-fcaa-48b1-afe4-0220db6b9bfe",
   "metadata": {
    "height": 30
   },
   "outputs": [],
   "source": [
    "from llama_index.llms.openai import OpenAI"
   ]
  },
  {
   "cell_type": "code",
   "execution_count": null,
   "id": "b32e825f-4539-4992-8b78-bde29ddd1c7a",
   "metadata": {
    "height": 217
   },
   "outputs": [],
   "source": [
    "class FirstEvent(Event):\n",
    "    first_output: str\n",
    "\n",
    "class SecondEvent(Event):\n",
    "    second_output: str\n",
    "    response: str\n",
    "\n",
    "class TextEvent(Event):\n",
    "    delta: str\n",
    "\n",
    "class ProgressEvent(Event):\n",
    "    msg: str"
   ]
  },
  {
   "cell_type": "code",
   "execution_count": null,
   "id": "d0e9d392-8a2d-4411-aef2-a5e93102d5d5",
   "metadata": {
    "height": 421
   },
   "outputs": [],
   "source": [
    "class MyWorkflow(Workflow):\n",
    "    @step\n",
    "    async def step_one(self, ctx: Context, ev: StartEvent) -> FirstEvent:\n",
    "        ctx.write_event_to_stream(ProgressEvent(msg=\"Step one is happening\"))\n",
    "        return FirstEvent(first_output=\"First step complete.\")\n",
    "\n",
    "    @step\n",
    "    async def step_two(self, ctx: Context, ev: FirstEvent) -> SecondEvent:\n",
    "        llm = OpenAI(model=\"gpt-4o-mini\", api_key=api_key) \n",
    "        generator = await llm.astream_complete(\n",
    "            \"Please give me the first 50 words of Moby Dick, a book in the public domain.\"\n",
    "        )\n",
    "        async for response in generator:\n",
    "            \n",
    "            ctx.write_event_to_stream(TextEvent(delta=response.delta))\n",
    "        return SecondEvent(\n",
    "            second_output=\"Second step complete, full response attached\",\n",
    "            response=str(response),\n",
    "        )\n",
    "\n",
    "    @step\n",
    "    async def step_three(self, ctx: Context, ev: SecondEvent) -> StopEvent:\n",
    "        ctx.write_event_to_stream(ProgressEvent(msg=\"Step three is happening\"))\n",
    "        return StopEvent(result=\"Workflow complete.\")"
   ]
  },
  {
   "cell_type": "code",
   "execution_count": null,
   "id": "10eaae2e-6950-4192-930d-a1c7cca483c8",
   "metadata": {
    "height": 200
   },
   "outputs": [],
   "source": [
    "workflow = MyWorkflow(timeout=30, verbose=False)\n",
    "handler = workflow.run(first_input=\"Start the workflow.\")\n",
    "\n",
    "async for ev in handler.stream_events():\n",
    "    if isinstance(ev, ProgressEvent):\n",
    "        print(ev.msg)\n",
    "    if isinstance(ev, TextEvent):\n",
    "        print(ev.delta, end=\"\")\n",
    "\n",
    "final_result = await handler\n",
    "print(\"Final result = \", final_result)"
   ]
  }
 ],
 "metadata": {
  "kernelspec": {
   "display_name": "Python 3 (ipykernel)",
   "language": "python",
   "name": "python3"
  },
  "language_info": {
   "codemirror_mode": {
    "name": "ipython",
    "version": 3
   },
   "file_extension": ".py",
   "mimetype": "text/x-python",
   "name": "python",
   "nbconvert_exporter": "python",
   "pygments_lexer": "ipython3",
   "version": "3.10.15"
  }
 },
 "nbformat": 4,
 "nbformat_minor": 5
}
